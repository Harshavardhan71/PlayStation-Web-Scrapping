{
 "cells": [
  {
   "cell_type": "markdown",
   "metadata": {},
   "source": [
    "# Amazon Web Scraping"
   ]
  },
  {
   "cell_type": "markdown",
   "metadata": {},
   "source": [
    "## 1. Import Libraries\n"
   ]
  },
  {
   "cell_type": "code",
   "execution_count": 1,
   "metadata": {},
   "outputs": [],
   "source": [
    "from bs4 import BeautifulSoup\n",
    "import requests\n",
    "import pandas as pd\n",
    "import numpy as np\n"
   ]
  },
  {
   "cell_type": "markdown",
   "metadata": {},
   "source": [
    "### 2. Define Functions to Extract Product Information"
   ]
  },
  {
   "cell_type": "markdown",
   "metadata": {},
   "source": [
    " Extract Product Title"
   ]
  },
  {
   "cell_type": "code",
   "execution_count": 2,
   "metadata": {},
   "outputs": [],
   "source": [
    "# Function to extract Product Title\n",
    "def get_title(soup):\n",
    "    try:\n",
    "        title = soup.find(\"span\", attrs={\"id\": 'productTitle'}).get_text(strip=True)\n",
    "    except AttributeError:\n",
    "        title = \"\"\n",
    "    return title\n"
   ]
  },
  {
   "cell_type": "markdown",
   "metadata": {},
   "source": [
    " Extract Product Price"
   ]
  },
  {
   "cell_type": "code",
   "execution_count": 3,
   "metadata": {},
   "outputs": [],
   "source": [
    "# Function to extract Product Price\n",
    "def get_price(soup):\n",
    "    try:\n",
    "        price = soup.find(\"span\", attrs={'id': 'priceblock_ourprice'}).get_text(strip=True)\n",
    "    except AttributeError:\n",
    "        try:\n",
    "            price = soup.find(\"span\", attrs={'id': 'priceblock_dealprice'}).get_text(strip=True)\n",
    "        except AttributeError:\n",
    "            price = \"\"\n",
    "    return price\n"
   ]
  },
  {
   "cell_type": "markdown",
   "metadata": {},
   "source": [
    " Extract Product Rating"
   ]
  },
  {
   "cell_type": "code",
   "execution_count": 4,
   "metadata": {},
   "outputs": [],
   "source": [
    "# Function to extract Product Rating\n",
    "def get_rating(soup):\n",
    "    try:\n",
    "        rating = soup.find(\"i\", attrs={'class': 'a-icon a-icon-star a-star-4-5'}).get_text(strip=True)\n",
    "    except AttributeError:\n",
    "        try:\n",
    "            rating = soup.find(\"span\", attrs={'class': 'a-icon-alt'}).get_text(strip=True)\n",
    "        except AttributeError:\n",
    "            rating = \"\"\n",
    "    return rating\n"
   ]
  },
  {
   "cell_type": "markdown",
   "metadata": {},
   "source": [
    " Extract Number of Reviews"
   ]
  },
  {
   "cell_type": "code",
   "execution_count": 5,
   "metadata": {},
   "outputs": [],
   "source": [
    "# Function to extract the Number of Reviews\n",
    "def get_review_count(soup):\n",
    "    try:\n",
    "        review_count = soup.find(\"span\", attrs={'id': 'acrCustomerReviewText'}).get_text(strip=True)\n",
    "    except AttributeError:\n",
    "        review_count = \"\"\n",
    "    return review_count\n"
   ]
  },
  {
   "cell_type": "markdown",
   "metadata": {},
   "source": [
    " Extract Availability Status"
   ]
  },
  {
   "cell_type": "code",
   "execution_count": 6,
   "metadata": {},
   "outputs": [],
   "source": [
    "# Function to extract Availability Status\n",
    "def get_availability(soup):\n",
    "    try:\n",
    "        available = soup.find(\"div\", attrs={'id': 'availability'}).find(\"span\").get_text(strip=True)\n",
    "    except AttributeError:\n",
    "        available = \"Not Available\"\n",
    "    return available\n"
   ]
  },
  {
   "cell_type": "markdown",
   "metadata": {},
   "source": [
    "### 3. Main Script for Web Scraping"
   ]
  },
  {
   "cell_type": "markdown",
   "metadata": {},
   "source": [
    "Set Headers and URL"
   ]
  },
  {
   "cell_type": "code",
   "execution_count": 7,
   "metadata": {},
   "outputs": [],
   "source": [
    "if __name__ == '__main__':\n",
    "    # Add your user agent to avoid getting blocked by Amazon\n",
    "    HEADERS = ({\n",
    "        'User-Agent': 'Mozilla/5.0 (Windows NT 10.0; Win64; x64) AppleWebKit/537.36 (KHTML, like Gecko) Chrome/58.0.3029.110 Safari/537.36',\n",
    "        'Accept-Language': 'en-US, en;q=0.5'\n",
    "    })\n",
    "    \n",
    "    # URL for searching PlayStation 4 on Amazon\n",
    "    URL = \"https://www.amazon.com/s?k=playstation+4&ref=nb_sb_noss_2\"\n"
   ]
  },
  {
   "cell_type": "markdown",
   "metadata": {},
   "source": [
    "Send HTTP Request and Parse Webpage"
   ]
  },
  {
   "cell_type": "code",
   "execution_count": 8,
   "metadata": {},
   "outputs": [],
   "source": [
    "# Send HTTP request to get the webpage content\n",
    "webpage = requests.get(URL, headers=HEADERS)\n",
    "    \n",
    "# Parse the webpage content using BeautifulSoup\n",
    "soup = BeautifulSoup(webpage.content, \"html.parser\")\n"
   ]
  },
  {
   "cell_type": "markdown",
   "metadata": {},
   "source": [
    "Extract Product Links"
   ]
  },
  {
   "cell_type": "code",
   "execution_count": 9,
   "metadata": {},
   "outputs": [],
   "source": [
    "# Find all links for individual products\n",
    "links = soup.find_all(\"a\", attrs={'class': 'a-link-normal s-no-outline'})\n",
    "   \n",
    "# Extract the href attribute (product links) and store them\n",
    "links_list = [link.get('href') for link in links]\n"
   ]
  },
  {
   "cell_type": "markdown",
   "metadata": {},
   "source": [
    "Loop Through Product Links and Extract Details"
   ]
  },
  {
   "cell_type": "code",
   "execution_count": 10,
   "metadata": {},
   "outputs": [],
   "source": [
    "# Dictionary to store the product data\n",
    "product_data = {\"title\": [], \"price\": [], \"rating\": [], \"reviews\": [], \"availability\": []}\n",
    "\n",
    "# Loop through each product link to extract details\n",
    "for link in links_list:\n",
    "        # Create a new URL for each product\n",
    "        new_url = \"https://www.amazon.com\" + link\n",
    "        new_webpage = requests.get(new_url, headers=HEADERS)\n",
    "        new_soup = BeautifulSoup(new_webpage.content, \"html.parser\")\n",
    "\n",
    "        # Extract and store product information\n",
    "        product_data['title'].append(get_title(new_soup))\n",
    "        product_data['price'].append(get_price(new_soup))\n",
    "        product_data['rating'].append(get_rating(new_soup))\n",
    "        product_data['reviews'].append(get_review_count(new_soup))\n",
    "        product_data['availability'].append(get_availability(new_soup))\n"
   ]
  },
  {
   "cell_type": "markdown",
   "metadata": {},
   "source": [
    "### 4. Store Data in DataFrame "
   ]
  },
  {
   "cell_type": "code",
   "execution_count": 11,
   "metadata": {},
   "outputs": [
    {
     "name": "stderr",
     "output_type": "stream",
     "text": [
      "C:\\Users\\harsh\\AppData\\Local\\Temp\\ipykernel_15056\\1082443488.py:5: FutureWarning: A value is trying to be set on a copy of a DataFrame or Series through chained assignment using an inplace method.\n",
      "The behavior will change in pandas 3.0. This inplace method will never work because the intermediate object on which we are setting values always behaves as a copy.\n",
      "\n",
      "For example, when doing 'df[col].method(value, inplace=True)', try using 'df.method({col: value}, inplace=True)' or df[col] = df[col].method(value) instead, to perform the operation inplace on the original object.\n",
      "\n",
      "\n",
      "  amazon_df['title'].replace('', np.nan, inplace=True)\n"
     ]
    }
   ],
   "source": [
    "# Create a pandas DataFrame from the dictionary\n",
    "amazon_df = pd.DataFrame(product_data)\n",
    "\n",
    "# Clean up empty titles (products with missing details)\n",
    "amazon_df['title'].replace('', np.nan, inplace=True)\n",
    "amazon_df.dropna(subset=['title'], inplace=True)"
   ]
  },
  {
   "cell_type": "code",
   "execution_count": 12,
   "metadata": {},
   "outputs": [
    {
     "data": {
      "text/html": [
       "<div>\n",
       "<style scoped>\n",
       "    .dataframe tbody tr th:only-of-type {\n",
       "        vertical-align: middle;\n",
       "    }\n",
       "\n",
       "    .dataframe tbody tr th {\n",
       "        vertical-align: top;\n",
       "    }\n",
       "\n",
       "    .dataframe thead th {\n",
       "        text-align: right;\n",
       "    }\n",
       "</style>\n",
       "<table border=\"1\" class=\"dataframe\">\n",
       "  <thead>\n",
       "    <tr style=\"text-align: right;\">\n",
       "      <th></th>\n",
       "      <th>title</th>\n",
       "      <th>price</th>\n",
       "      <th>rating</th>\n",
       "      <th>reviews</th>\n",
       "      <th>availability</th>\n",
       "    </tr>\n",
       "  </thead>\n",
       "  <tbody>\n",
       "    <tr>\n",
       "      <th>16</th>\n",
       "      <td>BRENDEZ Replacement Set of Cables,- HDMI Cable...</td>\n",
       "      <td></td>\n",
       "      <td>4.7 out of 5 stars</td>\n",
       "      <td>52 ratings</td>\n",
       "      <td></td>\n",
       "    </tr>\n",
       "    <tr>\n",
       "      <th>17</th>\n",
       "      <td>GamingBoy 2 Pack Wireless Controller for PS4, ...</td>\n",
       "      <td></td>\n",
       "      <td></td>\n",
       "      <td>137 ratings</td>\n",
       "      <td></td>\n",
       "    </tr>\n",
       "    <tr>\n",
       "      <th>18</th>\n",
       "      <td>MOOGOLE PS4 Controller Wireless, with Vibratio...</td>\n",
       "      <td></td>\n",
       "      <td></td>\n",
       "      <td>4,129 ratings</td>\n",
       "      <td></td>\n",
       "    </tr>\n",
       "    <tr>\n",
       "      <th>19</th>\n",
       "      <td>2 Pack Wireless Controller for PS4, Game Remot...</td>\n",
       "      <td></td>\n",
       "      <td></td>\n",
       "      <td>21 ratings</td>\n",
       "      <td></td>\n",
       "    </tr>\n",
       "    <tr>\n",
       "      <th>20</th>\n",
       "      <td>GamingBoy 2 Pack Wireless Controller for PS4, ...</td>\n",
       "      <td></td>\n",
       "      <td></td>\n",
       "      <td>137 ratings</td>\n",
       "      <td></td>\n",
       "    </tr>\n",
       "  </tbody>\n",
       "</table>\n",
       "</div>"
      ],
      "text/plain": [
       "                                                title price  \\\n",
       "16  BRENDEZ Replacement Set of Cables,- HDMI Cable...         \n",
       "17  GamingBoy 2 Pack Wireless Controller for PS4, ...         \n",
       "18  MOOGOLE PS4 Controller Wireless, with Vibratio...         \n",
       "19  2 Pack Wireless Controller for PS4, Game Remot...         \n",
       "20  GamingBoy 2 Pack Wireless Controller for PS4, ...         \n",
       "\n",
       "                rating        reviews availability  \n",
       "16  4.7 out of 5 stars     52 ratings               \n",
       "17                        137 ratings               \n",
       "18                      4,129 ratings               \n",
       "19                         21 ratings               \n",
       "20                        137 ratings               "
      ]
     },
     "execution_count": 12,
     "metadata": {},
     "output_type": "execute_result"
    }
   ],
   "source": [
    "# Display the first few rows of the DataFrame\n",
    "amazon_df.head()"
   ]
  },
  {
   "cell_type": "markdown",
   "metadata": {},
   "source": [
    "### 5. Save to CSV"
   ]
  },
  {
   "cell_type": "code",
   "execution_count": 13,
   "metadata": {},
   "outputs": [],
   "source": [
    "# Save the DataFrame to a CSV file\n",
    "#amazon_df.to_csv(\"amazon_data.csv\", index=False)"
   ]
  }
 ],
 "metadata": {
  "kernelspec": {
   "display_name": "pyenv",
   "language": "python",
   "name": "python3"
  },
  "language_info": {
   "codemirror_mode": {
    "name": "ipython",
    "version": 3
   },
   "file_extension": ".py",
   "mimetype": "text/x-python",
   "name": "python",
   "nbconvert_exporter": "python",
   "pygments_lexer": "ipython3",
   "version": "3.13.2"
  }
 },
 "nbformat": 4,
 "nbformat_minor": 2
}
